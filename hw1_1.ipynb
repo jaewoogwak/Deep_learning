{
 "cells": [
  {
   "cell_type": "markdown",
   "id": "29a821d5-f55f-4edb-a107-dad7b5ccbad5",
   "metadata": {
    "collapsed": true,
    "jupyter": {
     "outputs_hidden": true
    }
   },
   "source": [
    "# a_tensor_initialization"
   ]
  },
  {
   "cell_type": "code",
   "execution_count": 1,
   "id": "6faef9a4-fbf9-48b7-939f-c03ebe2f9b9a",
   "metadata": {},
   "outputs": [],
   "source": [
    "import torch"
   ]
  },
  {
   "cell_type": "code",
   "execution_count": 2,
   "id": "34d26449-6ee1-4e81-a59a-2f09b891ae3e",
   "metadata": {},
   "outputs": [
    {
     "name": "stdout",
     "output_type": "stream",
     "text": [
      "torch.float32\n",
      "cpu\n",
      "False\n",
      "torch.Size([3])\n",
      "torch.Size([3])\n"
     ]
    }
   ],
   "source": [
    "# torch.Tensor class\n",
    "t1 = torch.Tensor([1, 2, 3], device='cpu') # torchFloatTensor와 같은 의미로 float32 dtype으로 tensor 초기화\n",
    "print(t1.dtype)   # >>> torch.float32\n",
    "print(t1.device)  # >>> cpu\n",
    "print(t1.requires_grad)  # >>> False\n",
    "print(t1.size())  # torch.Size([3])\n",
    "print(t1.shape)   # torch.Size([3])"
   ]
  },
  {
   "cell_type": "code",
   "execution_count": 3,
   "id": "32a5ca04-3ce1-4907-b14d-02c30e4f4c0b",
   "metadata": {},
   "outputs": [],
   "source": [
    "# if you have gpu device\n",
    "# t1_cuda = t1.to(torch.device('cuda'))\n",
    "# or you can use shorthand\n",
    "# t1_cuda = t1.cuda()\n",
    "t1_cpu = t1.cpu() # CPU memory로 tensor를 옮김\n"
   ]
  },
  {
   "cell_type": "code",
   "execution_count": 5,
   "id": "30d9ee04-129c-4600-beed-51f0337d157e",
   "metadata": {},
   "outputs": [
    {
     "name": "stdout",
     "output_type": "stream",
     "text": [
      "\n"
     ]
    }
   ],
   "source": [
    "print()"
   ]
  },
  {
   "cell_type": "code",
   "execution_count": 6,
   "id": "72388ba9-20cd-4961-a0fb-60b9415430a8",
   "metadata": {},
   "outputs": [
    {
     "name": "stdout",
     "output_type": "stream",
     "text": [
      "torch.int64\n",
      "cpu\n",
      "False\n",
      "torch.Size([3])\n",
      "torch.Size([3])\n"
     ]
    }
   ],
   "source": [
    "# torch.tensor function\n",
    "t2 = torch.tensor([1, 2, 3], device='cpu') # 소심한 소문자 .tensor 메서드, int64 dtype으로 tensor 초기화\n",
    "print(t2.dtype)  # >>> torch.int64\n",
    "print(t2.device)  # >>> cpu\n",
    "print(t2.requires_grad)  # >>> False\n",
    "print(t2.size())  # torch.Size([3])\n",
    "print(t2.shape)  # torch.Size([3])"
   ]
  },
  {
   "cell_type": "code",
   "execution_count": 9,
   "id": "c98e6e57-24b8-4081-b8b8-f93e897d36f6",
   "metadata": {},
   "outputs": [],
   "source": [
    "# if you have gpu device\n",
    "# t2_cuda = t2.to(torch.device('cuda'))\n",
    "# or you can use shorthand\n",
    "# t2_cuda = t2.cuda()\n",
    "t2_cpu = t2.cpu() # CPU memory로 tensor를 옮김"
   ]
  },
  {
   "cell_type": "markdown",
   "id": "a5aa2fc1-7056-4835-8638-d2891c262ef7",
   "metadata": {},
   "source": [
    "# b_tensor_initialization_copy"
   ]
  },
  {
   "cell_type": "code",
   "execution_count": 10,
   "id": "a93c2c35-d06b-45e8-a8c8-3e99db590a4c",
   "metadata": {},
   "outputs": [],
   "source": [
    "import torch\n",
    "import numpy as np"
   ]
  },
  {
   "cell_type": "code",
   "execution_count": 11,
   "id": "96975219-f46f-47f1-87d0-3c9120068d9e",
   "metadata": {},
   "outputs": [],
   "source": [
    "l1 = [1, 2, 3]\n",
    "t1 = torch.Tensor(l1) # dtype float32의 tensor로 초기화"
   ]
  },
  {
   "cell_type": "code",
   "execution_count": 12,
   "id": "5b385443-eab3-4129-b19b-6bd0ae6e8e55",
   "metadata": {},
   "outputs": [],
   "source": [
    "l2 = [1, 2, 3]\n",
    "t2 = torch.tensor(l2) # dtype int64의 tensor로 초기화"
   ]
  },
  {
   "cell_type": "code",
   "execution_count": 13,
   "id": "0d52fa89-9e18-441f-b037-609f12358dd2",
   "metadata": {},
   "outputs": [],
   "source": [
    "l3 = [1, 2, 3]\n",
    "t3 = torch.as_tensor(l3) # l3을 tensor로 바꿈"
   ]
  },
  {
   "cell_type": "code",
   "execution_count": 20,
   "id": "1f2166a7-e8c2-4994-a3db-999b8e007c2d",
   "metadata": {},
   "outputs": [
    {
     "name": "stdout",
     "output_type": "stream",
     "text": [
      "tensor([1., 2., 3.])\n",
      "tensor([1, 2, 3])\n",
      "tensor([1, 2, 3])\n"
     ]
    }
   ],
   "source": [
    "# ⭐️ Tensor initialization의 중요한 특징\n",
    "# tensor를 초기화하는 메서드의 인자로 사용된 변수의 값을 변경해도 tensor의 값이 변경되지 않는 모습\n",
    "# torch.Tensor & torch.tensor always copies the given data!\n",
    "# Imutable하다.\n",
    "l1[0] = 100\n",
    "l2[0] = 100\n",
    "l3[0] = 100\n",
    "\n",
    "print(t1)\n",
    "print(t2)\n",
    "print(t3)\n"
   ]
  },
  {
   "cell_type": "code",
   "execution_count": 16,
   "id": "aeadeca9-6972-43cc-a727-e7d500c94fce",
   "metadata": {},
   "outputs": [
    {
     "name": "stdout",
     "output_type": "stream",
     "text": [
      "####################################################################################################\n"
     ]
    }
   ],
   "source": [
    "print(\"#\" * 100)\n"
   ]
  },
  {
   "cell_type": "code",
   "execution_count": 18,
   "id": "cf116b8c-6242-43a1-af78-6cb737a9d929",
   "metadata": {},
   "outputs": [],
   "source": [
    "# numpy는 호환성이 좋음\n",
    "l4 = np.array([1, 2, 3])\n",
    "t4 = torch.Tensor(l4)\n",
    "\n",
    "l5 = np.array([1, 2, 3])\n",
    "t5 = torch.tensor(l5)\n",
    "\n",
    "l6 = np.array([1, 2, 3])\n",
    "# torch.as_tensor()로 tensor를 초기화할 경우 인자로 전달한 변수와 값을 공유한다.\n",
    "# Mutable한 list의 특성을 유지하는 모습 (shallow copy)\n",
    "# t6은 l6을 참조하고 있는 상태로 l6의 요소를 변경하면 t6의 요소도 변경됨\n",
    "t6 = torch.as_tensor(l6)"
   ]
  },
  {
   "cell_type": "code",
   "execution_count": 19,
   "id": "7e10036e-2d81-4dd1-801f-2835b4620854",
   "metadata": {},
   "outputs": [
    {
     "name": "stdout",
     "output_type": "stream",
     "text": [
      "tensor([1., 2., 3.])\n",
      "tensor([1, 2, 3])\n",
      "tensor([100,   2,   3])\n"
     ]
    }
   ],
   "source": [
    "l4[0] = 100\n",
    "l5[0] = 100\n",
    "l6[0] = 100\n",
    "\n",
    "print(t4)\n",
    "print(t5)\n",
    "print(t6)"
   ]
  },
  {
   "cell_type": "markdown",
   "id": "90d0f3cd-4b8a-4bf4-891c-74a98c7e8b5c",
   "metadata": {},
   "source": [
    "# c_tensor_initialization_constant_values"
   ]
  },
  {
   "cell_type": "code",
   "execution_count": 21,
   "id": "a8640bcc-c44c-47a5-920b-b31b83fc192d",
   "metadata": {},
   "outputs": [],
   "source": [
    "import torch"
   ]
  },
  {
   "cell_type": "code",
   "execution_count": 22,
   "id": "503d5869-6d96-406f-bb42-09dc1ef08192",
   "metadata": {},
   "outputs": [],
   "source": [
    "# size=(5,)는 [*, *, *, *, *]와 같음 (*는 임의의 값)\n",
    "# 🔨 torch.ones\n",
    "# Returns a tensor filled with the scalar value 1, with the shape defined by the variable argument size.\n",
    "t1 = torch.ones(size=(5,))  # or torch.ones(5)"
   ]
  },
  {
   "cell_type": "code",
   "execution_count": 23,
   "id": "745e7e3e-3b9c-4463-a473-9477f0cc02c7",
   "metadata": {},
   "outputs": [],
   "source": [
    "# 🔨 torch.ones_like\n",
    "# Returns a tensor filled with the scalar value 1, with the same size as input.\n",
    "# input 파라미터 타입은 tensor이다.\n",
    "# torch.ones_like는 torch.ones와 동일하다\n",
    "t1_like = torch.ones_like(input=t1)"
   ]
  },
  {
   "cell_type": "code",
   "execution_count": 24,
   "id": "212000bc-674b-41c1-86b8-31ed5b7c08b5",
   "metadata": {},
   "outputs": [
    {
     "name": "stdout",
     "output_type": "stream",
     "text": [
      "tensor([1., 1., 1., 1., 1.])\n",
      "tensor([1., 1., 1., 1., 1.])\n"
     ]
    }
   ],
   "source": [
    "print(t1)  # >>> tensor([1., 1., 1., 1., 1.])\n",
    "print(t1_like)  # >>> tensor([1., 1., 1., 1., 1.])"
   ]
  },
  {
   "cell_type": "code",
   "execution_count": 25,
   "id": "a1d33871-a6b6-46b4-b8e5-50a78569611a",
   "metadata": {},
   "outputs": [],
   "source": [
    "# 🔨 torch.zeros\n",
    "# Returns a tensor filled with the scalar value 0, with the shape defined by the variable argument size.\n",
    "# 앞선 torch.ones처럼 0으로 차 있는 size shape의 tensor를 반환\n",
    "t2 = torch.zeros(size=(6,))  # or torch.zeros(6)"
   ]
  },
  {
   "cell_type": "code",
   "execution_count": 26,
   "id": "66824b89-a3ac-454f-9f83-6ca4da48cca0",
   "metadata": {},
   "outputs": [
    {
     "name": "stdout",
     "output_type": "stream",
     "text": [
      "tensor([0., 0., 0., 0., 0., 0.])\n",
      "tensor([0., 0., 0., 0., 0., 0.])\n"
     ]
    }
   ],
   "source": [
    "# 🔨 torch.zeros_like\n",
    "# Returns a tensor filled with the scalar value 0, with the same size as input.\n",
    "# torch.zeros_like 역시 torch.zeros와 같음\n",
    "t2_like = torch.zeros_like(input=t2)\n",
    "print(t2)  # >>> tensor([0., 0., 0., 0., 0., 0.])\n",
    "print(t2_like)  # >>> tensor([0., 0., 0., 0., 0., 0.])"
   ]
  },
  {
   "cell_type": "code",
   "execution_count": 27,
   "id": "5fcccd09-44ac-4d51-96a4-de8e970e1a75",
   "metadata": {},
   "outputs": [],
   "source": [
    "# 🔨 torch.empty\n",
    "# Returns a tensor filled with uninitialized data. The shape of the tensor is defined by the variable argument size.\n",
    "# 초기화 되지 않은 데이터로 tensor를 초기화\n",
    "t3 = torch.empty(size=(4,))  # or torch.zeros(4)"
   ]
  },
  {
   "cell_type": "code",
   "execution_count": 28,
   "id": "649cff32-059d-463a-9fc9-27cfe5abf32d",
   "metadata": {},
   "outputs": [
    {
     "name": "stdout",
     "output_type": "stream",
     "text": [
      "tensor([0., 0., 0., 0.])\n",
      "tensor([0., 0., 0., 0.])\n"
     ]
    }
   ],
   "source": [
    "# 🔨 torch.empty_like\n",
    "# Returns an uninitialized tensor with the same size as input.\n",
    "# input 파라미터 타입은 tensor.\n",
    "t3_like = torch.empty_like(input=t3)\n",
    "print(t3)  # >>> tensor([0., 0., 0., 0.])\n",
    "print(t3_like)  # >>> tensor([0., 0., 0., 0.])"
   ]
  },
  {
   "cell_type": "code",
   "execution_count": 29,
   "id": "02fffd54-1407-420c-ae4a-bd84c5df5785",
   "metadata": {},
   "outputs": [
    {
     "name": "stdout",
     "output_type": "stream",
     "text": [
      "tensor([[1., 0., 0.],\n",
      "        [0., 1., 0.],\n",
      "        [0., 0., 1.]])\n"
     ]
    }
   ],
   "source": [
    "# 🔨 torch.eye\n",
    "# Returns a 2-D tensor with ones on the diagonal and zeros elsewhere.\n",
    "# 2차원 항등행렬(대각선에 1이 있고, 나머지는 0으로 되어 있음) 꼴의 tensor 반환\n",
    "t4 = torch.eye(n=3)\n",
    "print(t4)"
   ]
  },
  {
   "cell_type": "markdown",
   "id": "2e6db2f9-5ad3-4e95-87a2-660ea56a437e",
   "metadata": {},
   "source": [
    "# d_tensor_initialization_random_values"
   ]
  },
  {
   "cell_type": "code",
   "execution_count": 2,
   "id": "6b17e612-1e03-4a8e-9a7e-78d3f7f7ded8",
   "metadata": {},
   "outputs": [],
   "source": [
    "import torch"
   ]
  },
  {
   "cell_type": "code",
   "execution_count": 3,
   "id": "84849ede-8bf5-41c5-a73b-e218d4adf5b5",
   "metadata": {},
   "outputs": [
    {
     "name": "stdout",
     "output_type": "stream",
     "text": [
      "tensor([[16, 10]])\n"
     ]
    }
   ],
   "source": [
    "# 🔨 torch.randint\n",
    "# Returns a tensor filled with random integers generated uniformly between low (inclusive) and high (exclusive).\n",
    "# 같은 확률로 값이 분포한다!\n",
    "# low~high 사이의 값이 나온다. (high는 제외)\n",
    "t1 = torch.randint(low=10, high=20, size=(1, 2))\n",
    "print(t1)"
   ]
  },
  {
   "cell_type": "code",
   "execution_count": 4,
   "id": "bf05351d-cc07-4120-ac85-1e50659bd8a6",
   "metadata": {},
   "outputs": [
    {
     "name": "stdout",
     "output_type": "stream",
     "text": [
      "tensor([[0.3559, 0.6967, 0.0988]])\n"
     ]
    }
   ],
   "source": [
    "# 🔨 torch.rand\n",
    "# Returns a tensor filled with random numbers from a uniform distribution on the interval [0, 1)\n",
    "# 역시 같은 확률로 값이 분포\n",
    "# 0~1의 값이 발생함 (1은 제외)\n",
    "t2 = torch.rand(size=(1, 3))\n",
    "print(t2)"
   ]
  },
  {
   "cell_type": "code",
   "execution_count": 6,
   "id": "2521d0c8-de65-44db-88f3-90e50d7ecd18",
   "metadata": {},
   "outputs": [
    {
     "name": "stdout",
     "output_type": "stream",
     "text": [
      "tensor([[ 0.7918,  1.8548, -1.9091]])\n"
     ]
    }
   ],
   "source": [
    "# 🔨 torch.randn\n",
    "# Returns a tensor filled with random numbers from a normal distribution\n",
    "# with mean 0 and variance 1 (also called the standard normal distribution).\n",
    "# 정규분포 비율에 따라 값이 발생 (평균이 0이고 분산이 1인 정규분포, 0에 가까운 값이 더 많이 나옴)\n",
    "t3 = torch.randn(size=(1, 3))\n",
    "print(t3)"
   ]
  },
  {
   "cell_type": "code",
   "execution_count": 7,
   "id": "f8a577c9-e49a-466f-b1b6-2b47d958d80e",
   "metadata": {},
   "outputs": [
    {
     "name": "stdout",
     "output_type": "stream",
     "text": [
      "tensor([[10.6115, 10.5592],\n",
      "        [11.7631, 11.0291],\n",
      "        [10.5083, 10.4379]])\n"
     ]
    }
   ],
   "source": [
    "# 🔨 torch.normal\n",
    "# Returns a tensor of random numbers drawn from separate normal distributions\n",
    "# whose mean and standard deviation are given.\n",
    "# 인자로 주어지는 평균, 표준편차에 따른 정규분포 비율에 해당하는 랜덤 값으로 초기화 된 size shape의 tensor 반환\n",
    "t4 = torch.normal(mean=10.0, std=1.0, size=(3, 2))\n",
    "print(t4)"
   ]
  },
  {
   "cell_type": "code",
   "execution_count": 8,
   "id": "e0d3062d-cf6d-4539-bb02-024d283658e1",
   "metadata": {},
   "outputs": [
    {
     "name": "stdout",
     "output_type": "stream",
     "text": [
      "tensor([0.0000, 2.5000, 5.0000])\n"
     ]
    }
   ],
   "source": [
    "# 🔨 torch.linspace\n",
    "# Creates a one-dimensional tensor of size steps whose values are evenly spaced from start to end, inclusive.\n",
    "# start~end 범위에서 steps개 요소를 같은 범위로 뽑아내고 1차원 tensor에 초기화함\n",
    "t5 = torch.linspace(start=0.0, end=5.0, steps=3)\n",
    "print(t5)"
   ]
  },
  {
   "cell_type": "code",
   "execution_count": 9,
   "id": "76989844-9572-4e88-81a1-7f6a5259b675",
   "metadata": {},
   "outputs": [
    {
     "name": "stdout",
     "output_type": "stream",
     "text": [
      "tensor([0, 1, 2, 3, 4])\n"
     ]
    }
   ],
   "source": [
    "# 🔨 torch.arrange\n",
    "# Returns a one-dimensional tensor with values from the interval [start, end)\n",
    "# taken with common difference step beginning from start\n",
    "# start와 steps는 디폴트값 0, 1로 end값만 주면 0부터 end-1까지 1씩 증가하는 형태로 초기화된 tensor 반환\n",
    "t6 = torch.arange(5)\n",
    "print(t6)"
   ]
  },
  {
   "cell_type": "code",
   "execution_count": 11,
   "id": "a56e1f85-3104-44c3-9d6a-bc61043bd810",
   "metadata": {},
   "outputs": [
    {
     "name": "stdout",
     "output_type": "stream",
     "text": [
      "##############################\n"
     ]
    }
   ],
   "source": [
    "print(\"#\" * 30)"
   ]
  },
  {
   "cell_type": "code",
   "execution_count": 12,
   "id": "5f4540c3-6d48-454d-b576-5cee22fcf5ec",
   "metadata": {},
   "outputs": [
    {
     "name": "stdout",
     "output_type": "stream",
     "text": [
      "tensor([[0.3126, 0.3791, 0.3087],\n",
      "        [0.0736, 0.4216, 0.0691]])\n"
     ]
    }
   ],
   "source": [
    "# 🔨 torch.manual_seed\n",
    "# It will set teh seed of the random number generator to a fixed value,\n",
    "# so that when you call for example torch.rand(2), the results will be reproducible.\n",
    "# 인자로 시드값을 줌으로써 동일한 랜덤값을 얻을 수 있음. 재생산 가능!\n",
    "torch.manual_seed(1729)\n",
    "random1 = torch.rand(2, 3)\n",
    "print(random1)"
   ]
  },
  {
   "cell_type": "code",
   "execution_count": 13,
   "id": "e3cc660d-4761-49c1-8af3-bfc4cf79d606",
   "metadata": {},
   "outputs": [
    {
     "name": "stdout",
     "output_type": "stream",
     "text": [
      "tensor([[0.2332, 0.4047, 0.2162],\n",
      "        [0.9927, 0.4128, 0.5938]])\n"
     ]
    }
   ],
   "source": [
    "random2 = torch.rand(2, 3)\n",
    "print(random2)"
   ]
  },
  {
   "cell_type": "code",
   "execution_count": 15,
   "id": "783340f6-f3e5-4366-9b76-7045b2043e50",
   "metadata": {},
   "outputs": [
    {
     "name": "stdout",
     "output_type": "stream",
     "text": [
      "\n"
     ]
    }
   ],
   "source": [
    "print()"
   ]
  },
  {
   "cell_type": "code",
   "execution_count": 16,
   "id": "7828fad0-af40-418f-96b3-68c3c4709a9b",
   "metadata": {},
   "outputs": [
    {
     "name": "stdout",
     "output_type": "stream",
     "text": [
      "tensor([[0.3126, 0.3791, 0.3087],\n",
      "        [0.0736, 0.4216, 0.0691]])\n"
     ]
    }
   ],
   "source": [
    "torch.manual_seed(1729)\n",
    "random3 = torch.rand(2, 3)\n",
    "print(random3)"
   ]
  },
  {
   "cell_type": "code",
   "execution_count": 17,
   "id": "382a0b4a-9fd3-4a46-9cdf-699d40542a9c",
   "metadata": {},
   "outputs": [
    {
     "name": "stdout",
     "output_type": "stream",
     "text": [
      "tensor([[0.2332, 0.4047, 0.2162],\n",
      "        [0.9927, 0.4128, 0.5938]])\n"
     ]
    }
   ],
   "source": [
    "random4 = torch.rand(2, 3)\n",
    "print(random4)"
   ]
  },
  {
   "cell_type": "markdown",
   "id": "cc48dbd3-8372-4663-a398-e7ae8853cf54",
   "metadata": {},
   "source": [
    "# e_tensor_type_conversion"
   ]
  },
  {
   "cell_type": "code",
   "execution_count": 18,
   "id": "835a9161-78be-4019-8405-e5e0ee39def1",
   "metadata": {},
   "outputs": [],
   "source": [
    "import torch"
   ]
  },
  {
   "cell_type": "code",
   "execution_count": 19,
   "id": "cae6e643-e43c-4eb9-828d-bfe765ad7bcf",
   "metadata": {},
   "outputs": [
    {
     "name": "stdout",
     "output_type": "stream",
     "text": [
      "torch.float32\n"
     ]
    }
   ],
   "source": [
    "# 기본적으로 torch.ones가 리턴하는 tensor의 dtype은 float32\n",
    "a = torch.ones((2, 3))\n",
    "print(a.dtype)"
   ]
  },
  {
   "cell_type": "code",
   "execution_count": 20,
   "id": "bf10acf5-a09e-4ad6-9d5b-7c7fadb69bc8",
   "metadata": {},
   "outputs": [
    {
     "name": "stdout",
     "output_type": "stream",
     "text": [
      "tensor([[1, 1, 1],\n",
      "        [1, 1, 1]], dtype=torch.int16)\n"
     ]
    }
   ],
   "source": [
    "# 명시적으로 dtype을 지정할 수 있음\n",
    "b = torch.ones((2, 3), dtype=torch.int16)\n",
    "print(b)"
   ]
  },
  {
   "cell_type": "code",
   "execution_count": 21,
   "id": "2c5debf9-2254-4f71-a8ec-f0500abe29d1",
   "metadata": {},
   "outputs": [
    {
     "name": "stdout",
     "output_type": "stream",
     "text": [
      "tensor([[18.0429,  7.2532, 19.6519],\n",
      "        [10.8626,  2.1505, 19.6913]], dtype=torch.float64)\n"
     ]
    }
   ],
   "source": [
    "# torch.rand()는 [0,1)의 값을 반환하는데, 여기에 20이 곱해진 값으로 초기화된 tensor 반환\n",
    "# broadcasting 발생\n",
    "c = torch.rand((2, 3), dtype=torch.float64) * 20.\n",
    "print(c)"
   ]
  },
  {
   "cell_type": "code",
   "execution_count": 24,
   "id": "2108c257-6961-437b-8cda-678dd5107556",
   "metadata": {},
   "outputs": [
    {
     "name": "stdout",
     "output_type": "stream",
     "text": [
      "tensor([[1, 1, 1],\n",
      "        [1, 1, 1]], dtype=torch.int32)\n"
     ]
    }
   ],
   "source": [
    "# (2,3) shape의 tensor를 int32 dtype으로 바꿔서 초기화\n",
    "d = b.to(torch.int32)\n",
    "print(d)"
   ]
  },
  {
   "cell_type": "code",
   "execution_count": 25,
   "id": "78d2f974-cd6b-49d4-83b3-7227a0b6231a",
   "metadata": {},
   "outputs": [],
   "source": [
    "double_d = torch.ones(10, 2, dtype=torch.double)\n",
    "short_e = torch.tensor([[1, 2]], dtype=torch.short)\n",
    "\n",
    "double_d = torch.zeros(10, 2).double()\n",
    "short_e = torch.ones(10, 2).short()\n",
    "\n",
    "double_d = torch.zeros(10, 2).to(torch.double)\n",
    "short_e = torch.ones(10, 2).to(dtype=torch.short)\n"
   ]
  },
  {
   "cell_type": "code",
   "execution_count": 26,
   "id": "219fa2c1-8233-4ded-abb3-33686513f80f",
   "metadata": {},
   "outputs": [
    {
     "name": "stdout",
     "output_type": "stream",
     "text": [
      "torch.float64\n",
      "torch.int16\n"
     ]
    }
   ],
   "source": [
    "print(double_d.dtype)\n",
    "print(short_e.dtype)"
   ]
  },
  {
   "cell_type": "code",
   "execution_count": 28,
   "id": "e90ad8fe-73f9-4e25-adf9-1721c58d2f66",
   "metadata": {},
   "outputs": [],
   "source": [
    "double_f = torch.rand(5, dtype=torch.double)"
   ]
  },
  {
   "cell_type": "code",
   "execution_count": 30,
   "id": "b7c04a7c-3c73-4867-aa9d-8bec3fe60653",
   "metadata": {},
   "outputs": [
    {
     "name": "stdout",
     "output_type": "stream",
     "text": [
      "torch.float64\n"
     ]
    }
   ],
   "source": [
    "# torch.short는 torch.int16과 같음\n",
    "short_g = double_f.to(torch.short)\n",
    "print((double_f * short_g).dtype)"
   ]
  },
  {
   "cell_type": "markdown",
   "id": "78826db9-ad8c-46c5-b1c9-282c67901f9d",
   "metadata": {},
   "source": [
    "# f_tensor_opertaions"
   ]
  },
  {
   "cell_type": "code",
   "execution_count": 32,
   "id": "a90227d7-1485-454b-8cf2-f8261c5e8e2d",
   "metadata": {},
   "outputs": [],
   "source": [
    "import torch"
   ]
  },
  {
   "cell_type": "code",
   "execution_count": 33,
   "id": "a7e6ecb0-d945-4fd8-804b-f4d92404dc81",
   "metadata": {},
   "outputs": [],
   "source": [
    "# Element-wise operations\n",
    "# Tensor operations는 Element-wise operations이다.\n",
    "# 각 요소끼리 연산이 진행된다."
   ]
  },
  {
   "cell_type": "code",
   "execution_count": 34,
   "id": "a0250065-372c-4362-abde-02a7f37a99e8",
   "metadata": {},
   "outputs": [],
   "source": [
    "t1 = torch.ones(size=(2, 3))\n",
    "t2 = torch.ones(size=(2, 3))"
   ]
  },
  {
   "cell_type": "code",
   "execution_count": 35,
   "id": "a47efc3d-89c1-4a5e-ab1a-082777c1ccd5",
   "metadata": {},
   "outputs": [
    {
     "name": "stdout",
     "output_type": "stream",
     "text": [
      "tensor([[2., 2., 2.],\n",
      "        [2., 2., 2.]])\n",
      "tensor([[2., 2., 2.],\n",
      "        [2., 2., 2.]])\n"
     ]
    }
   ],
   "source": [
    "t3 = torch.add(t1, t2) # 이것과\n",
    "t4 = t1 + t2 # 이것은 같다!\n",
    "print(t3)\n",
    "print(t4)"
   ]
  },
  {
   "cell_type": "code",
   "execution_count": 37,
   "id": "49138253-29c7-491a-8e4e-3c38a11ab856",
   "metadata": {},
   "outputs": [
    {
     "name": "stdout",
     "output_type": "stream",
     "text": [
      "##############################\n"
     ]
    }
   ],
   "source": [
    "print(\"#\" * 30)"
   ]
  },
  {
   "cell_type": "code",
   "execution_count": 38,
   "id": "8afaf8db-14bd-46e7-898b-0f9182e3dbe6",
   "metadata": {},
   "outputs": [
    {
     "name": "stdout",
     "output_type": "stream",
     "text": [
      "tensor([[0., 0., 0.],\n",
      "        [0., 0., 0.]])\n",
      "tensor([[0., 0., 0.],\n",
      "        [0., 0., 0.]])\n"
     ]
    }
   ],
   "source": [
    "t5 = torch.sub(t1, t2) # 이것과\n",
    "t6 = t1 - t2 # 이것은 같다!\n",
    "print(t5)\n",
    "print(t6)"
   ]
  },
  {
   "cell_type": "code",
   "execution_count": 39,
   "id": "f97b16af-0339-48c9-9657-7ea46a902cd4",
   "metadata": {},
   "outputs": [
    {
     "name": "stdout",
     "output_type": "stream",
     "text": [
      "##############################\n"
     ]
    }
   ],
   "source": [
    "print(\"#\" * 30)"
   ]
  },
  {
   "cell_type": "code",
   "execution_count": 40,
   "id": "5a7f2232-034a-4eab-9a3f-00ce4a85eda7",
   "metadata": {},
   "outputs": [
    {
     "name": "stdout",
     "output_type": "stream",
     "text": [
      "tensor([[1., 1., 1.],\n",
      "        [1., 1., 1.]])\n",
      "tensor([[1., 1., 1.],\n",
      "        [1., 1., 1.]])\n"
     ]
    }
   ],
   "source": [
    "t7 = torch.mul(t1, t2) # 이것과\n",
    "t8 = t1 * t2 # 이것은 같다!\n",
    "print(t7)\n",
    "print(t8)"
   ]
  },
  {
   "cell_type": "code",
   "execution_count": 41,
   "id": "76c6a22c-14ff-407a-ba58-67c516134c75",
   "metadata": {},
   "outputs": [
    {
     "name": "stdout",
     "output_type": "stream",
     "text": [
      "##############################\n"
     ]
    }
   ],
   "source": [
    "print(\"#\" * 30)"
   ]
  },
  {
   "cell_type": "code",
   "execution_count": 42,
   "id": "be7cbb85-36ae-4cc6-b562-7068876fc951",
   "metadata": {},
   "outputs": [
    {
     "name": "stdout",
     "output_type": "stream",
     "text": [
      "tensor([[1., 1., 1.],\n",
      "        [1., 1., 1.]])\n",
      "tensor([[1., 1., 1.],\n",
      "        [1., 1., 1.]])\n"
     ]
    }
   ],
   "source": [
    "t9 = torch.div(t1, t2) # 이것과\n",
    "t10 = t1 / t2 # 이것은 같다!\n",
    "print(t9)\n",
    "print(t10)"
   ]
  },
  {
   "cell_type": "markdown",
   "id": "f758b1b9-8b60-4c2a-9179-b905f80e1ec0",
   "metadata": {},
   "source": [
    "# g_tensor_operations_mm"
   ]
  },
  {
   "cell_type": "code",
   "execution_count": 46,
   "id": "ecb93e34-75ce-4dcf-95b1-463f3695a7ac",
   "metadata": {},
   "outputs": [],
   "source": [
    "import torch"
   ]
  },
  {
   "cell_type": "code",
   "execution_count": 47,
   "id": "6f72f699-7818-47dd-bfcf-f5a0013067aa",
   "metadata": {},
   "outputs": [
    {
     "name": "stdout",
     "output_type": "stream",
     "text": [
      "tensor(7) torch.Size([])\n"
     ]
    }
   ],
   "source": [
    "# 🔨 torch.dot\n",
    "# Computes the dot product of two 1D tensors\n",
    "# 두 1차원 tensor끼리 내적의 결과\n",
    "t1 = torch.dot(\n",
    "  torch.tensor([2, 3]), torch.tensor([2, 1])\n",
    ")\n",
    "print(t1, t1.size())"
   ]
  },
  {
   "cell_type": "code",
   "execution_count": 48,
   "id": "8ed045e8-a225-4995-9ae8-9a783794194e",
   "metadata": {},
   "outputs": [],
   "source": [
    "t2 = torch.randn(2, 3)\n",
    "t3 = torch.randn(3, 2)"
   ]
  },
  {
   "cell_type": "code",
   "execution_count": 50,
   "id": "fca396ff-ea83-437b-a45b-43b0844d7963",
   "metadata": {},
   "outputs": [
    {
     "name": "stdout",
     "output_type": "stream",
     "text": [
      "tensor([[ 1.7230, -1.4630, -1.0207],\n",
      "        [-0.0215, -0.6794, -0.2302]])\n",
      "tensor([[ 0.4211, -1.6245],\n",
      "        [ 0.6139,  1.6164],\n",
      "        [ 1.2499,  1.0061]])\n",
      "tensor([[-1.4484, -6.1907],\n",
      "        [-0.7139, -1.2949]]) torch.Size([2, 2])\n"
     ]
    }
   ],
   "source": [
    "# 🔨 torch.mm\n",
    "# Performs a matrix multiplication without broadcasting\n",
    "# broadcasting을 하지 않고 행렬 곱을 수행함\n",
    "print(t2)\n",
    "print(t3)\n",
    "t4 = torch.mm(t2, t3)\n",
    "print(t4, t4.size())"
   ]
  },
  {
   "cell_type": "code",
   "execution_count": 51,
   "id": "c0a3c640-5eb4-4e16-ab0d-94e7fb0d490a",
   "metadata": {},
   "outputs": [],
   "source": [
    "t5 = torch.randn(10, 3, 4)\n",
    "t6 = torch.randn(10, 4, 5)"
   ]
  },
  {
   "cell_type": "code",
   "execution_count": 52,
   "id": "98d4f8b3-4067-4ba7-80fb-77778b79fe8e",
   "metadata": {},
   "outputs": [
    {
     "name": "stdout",
     "output_type": "stream",
     "text": [
      "torch.Size([10, 3, 5])\n"
     ]
    }
   ],
   "source": [
    "# 🔨 torch.bmm\n",
    "# Performs a batch matrix multiplication without broadcasting\n",
    "# broadcatsing 하지 않고 행렬 곱 수행, input으로 무조건 3차원 tensor가 들어감\n",
    "t7 = torch.bmm(t5, t6)\n",
    "print(t7.size())"
   ]
  },
  {
   "cell_type": "markdown",
   "id": "d464d502-f223-4d8e-8d83-bc9ce481614a",
   "metadata": {},
   "source": [
    "# h_tensor_operations_mm"
   ]
  },
  {
   "cell_type": "code",
   "execution_count": 54,
   "id": "c11db5e8-c3f4-43cc-baaa-5ee779a5bc87",
   "metadata": {},
   "outputs": [],
   "source": [
    "import torch"
   ]
  },
  {
   "cell_type": "code",
   "execution_count": 55,
   "id": "6baa1287-71fe-43dd-8e6d-6676a8c9e9a5",
   "metadata": {},
   "outputs": [
    {
     "name": "stdout",
     "output_type": "stream",
     "text": [
      "torch.Size([])\n"
     ]
    }
   ],
   "source": [
    "# vector x vector: dot product\n",
    "t1 = torch.randn(3)\n",
    "t2 = torch.randn(3)\n",
    "print(torch.matmul(t1, t2).size())  # torch.Size([])"
   ]
  },
  {
   "cell_type": "code",
   "execution_count": 56,
   "id": "b02f38b9-7be1-4520-a72c-4d9cba78cb30",
   "metadata": {},
   "outputs": [
    {
     "name": "stdout",
     "output_type": "stream",
     "text": [
      "torch.Size([3])\n"
     ]
    }
   ],
   "source": [
    "# matrix x vector: broadcasted dot\n",
    "t3 = torch.randn(3, 4)\n",
    "t4 = torch.randn(4)\n",
    "print(torch.matmul(t3, t4).size())  # torch.Size([3])"
   ]
  },
  {
   "cell_type": "code",
   "execution_count": 57,
   "id": "1d30c054-651b-4f6c-bce6-e2c45414ea06",
   "metadata": {},
   "outputs": [
    {
     "name": "stdout",
     "output_type": "stream",
     "text": [
      "torch.Size([10, 3])\n"
     ]
    }
   ],
   "source": [
    "# batched matrix x vector: broadcasted dot\n",
    "t5 = torch.randn(10, 3, 4)\n",
    "t6 = torch.randn(4)\n",
    "print(torch.matmul(t5, t6).size())  # torch.Size([10, 3])"
   ]
  },
  {
   "cell_type": "code",
   "execution_count": 58,
   "id": "100d1747-22d3-4480-ae60-0be370984746",
   "metadata": {},
   "outputs": [
    {
     "name": "stdout",
     "output_type": "stream",
     "text": [
      "torch.Size([10, 3, 5])\n"
     ]
    }
   ],
   "source": [
    "# batched matrix x batched matrix: bmm\n",
    "t7 = torch.randn(10, 3, 4)\n",
    "t8 = torch.randn(10, 4, 5)\n",
    "print(torch.matmul(t7, t8).size())  # torch.Size([10, 3, 5])"
   ]
  },
  {
   "cell_type": "code",
   "execution_count": 59,
   "id": "1f04ff76-8d37-4787-a34e-abbeb63476e0",
   "metadata": {},
   "outputs": [
    {
     "name": "stdout",
     "output_type": "stream",
     "text": [
      "torch.Size([10, 3, 5])\n"
     ]
    }
   ],
   "source": [
    "# batched matrix x matrix: bmm\n",
    "t9 = torch.randn(10, 3, 4)\n",
    "t10 = torch.randn(4, 5)\n",
    "print(torch.matmul(t9, t10).size())  # torch.Size([10, 3, 5])"
   ]
  },
  {
   "cell_type": "markdown",
   "id": "2c4c856a-2fce-4cac-b2b8-09ee4ee99355",
   "metadata": {},
   "source": [
    "# i_tensor_broadcasting"
   ]
  },
  {
   "cell_type": "code",
   "execution_count": 60,
   "id": "15b6bae8-454b-4ecf-b004-928ca3b0bb0a",
   "metadata": {},
   "outputs": [],
   "source": [
    "import torch\n"
   ]
  },
  {
   "cell_type": "code",
   "execution_count": 61,
   "id": "de8a0af5-1764-4132-b0ae-0992f4414ce5",
   "metadata": {},
   "outputs": [],
   "source": [
    "# Tensor broadcasting\n",
    "# Element-wise operation을 이해하는 것이 중요하다."
   ]
  },
  {
   "cell_type": "code",
   "execution_count": 62,
   "id": "1147ad37-1632-4908-8475-7730e882ec8c",
   "metadata": {},
   "outputs": [
    {
     "name": "stdout",
     "output_type": "stream",
     "text": [
      "tensor([2., 4., 6.])\n"
     ]
    }
   ],
   "source": [
    "t1 = torch.tensor([1.0, 2.0, 3.0])\n",
    "t2 = 2.0\n",
    "print(t1 * t2) # 2.0이 각 요소에 broadcasting됨"
   ]
  },
  {
   "cell_type": "code",
   "execution_count": 63,
   "id": "6861bb7e-5eb7-46e7-abd2-e89493469e4c",
   "metadata": {},
   "outputs": [
    {
     "name": "stdout",
     "output_type": "stream",
     "text": [
      "################################################## 1\n"
     ]
    }
   ],
   "source": [
    "print(\"#\" * 50, 1)"
   ]
  },
  {
   "cell_type": "code",
   "execution_count": 64,
   "id": "75e67af7-211f-46e2-a4a9-43263ff49203",
   "metadata": {},
   "outputs": [
    {
     "name": "stdout",
     "output_type": "stream",
     "text": [
      "tensor([[-4, -4],\n",
      "        [-2, -1],\n",
      "        [ 6,  5]])\n"
     ]
    }
   ],
   "source": [
    "t3 = torch.tensor([[0, 1], [2, 4], [10, 10]])\n",
    "t4 = torch.tensor([4, 5]) # [4, 5]가 t3의 각 행에 broadcasting됨\n",
    "print(t3 - t4)"
   ]
  },
  {
   "cell_type": "code",
   "execution_count": 65,
   "id": "1d1e561c-26da-4ce9-8fb5-0ee8bb2417b8",
   "metadata": {},
   "outputs": [
    {
     "name": "stdout",
     "output_type": "stream",
     "text": [
      "################################################## 2\n"
     ]
    }
   ],
   "source": [
    "print(\"#\" * 50, 2)"
   ]
  },
  {
   "cell_type": "code",
   "execution_count": 66,
   "id": "266a191e-123f-4bb9-bf1d-a5edf901d253",
   "metadata": {},
   "outputs": [
    {
     "name": "stdout",
     "output_type": "stream",
     "text": [
      "tensor([[3., 4.],\n",
      "        [5., 6.]])\n",
      "tensor([[-1.,  0.],\n",
      "        [ 1.,  2.]])\n",
      "tensor([[2., 4.],\n",
      "        [6., 8.]])\n",
      "tensor([[0.5000, 1.0000],\n",
      "        [1.5000, 2.0000]])\n"
     ]
    }
   ],
   "source": [
    "t5 = torch.tensor([[1., 2.], [3., 4.]])\n",
    "print(t5 + 2.0)  # t5.add(2.0)\n",
    "print(t5 - 2.0)  # t5.sub(2.0)\n",
    "print(t5 * 2.0)  # t5.mul(2.0)\n",
    "print(t5 / 2.0)  # t5.div(2.0)"
   ]
  },
  {
   "cell_type": "code",
   "execution_count": 67,
   "id": "4bc8fb01-58f2-464c-b6cf-6dc21faa921a",
   "metadata": {},
   "outputs": [
    {
     "name": "stdout",
     "output_type": "stream",
     "text": [
      "################################################## 3\n"
     ]
    }
   ],
   "source": [
    "print(\"#\" * 50, 3)"
   ]
  },
  {
   "cell_type": "code",
   "execution_count": 68,
   "id": "52776cc0-36f7-46c7-9dd5-53169b104de0",
   "metadata": {},
   "outputs": [],
   "source": [
    "# 인자로 들어온 tensor의 모든 요소에 broadcasting\n",
    "def normalize(x):\n",
    "  return x / 255"
   ]
  },
  {
   "cell_type": "code",
   "execution_count": 69,
   "id": "91995277-f172-458b-9ceb-e7be8b6e8caa",
   "metadata": {},
   "outputs": [
    {
     "name": "stdout",
     "output_type": "stream",
     "text": [
      "torch.Size([3, 28, 28])\n"
     ]
    }
   ],
   "source": [
    "t6 = torch.randn(3, 28, 28)\n",
    "print(normalize(t6).size())"
   ]
  },
  {
   "cell_type": "code",
   "execution_count": 72,
   "id": "7c342ee8-ba4a-4520-93d5-33934369b022",
   "metadata": {},
   "outputs": [
    {
     "name": "stdout",
     "output_type": "stream",
     "text": [
      "################################################## 4\n"
     ]
    }
   ],
   "source": [
    "print(\"#\" * 50, 4)"
   ]
  },
  {
   "cell_type": "code",
   "execution_count": 73,
   "id": "43abe1c8-49ce-4bf2-8c87-f2409f818e5a",
   "metadata": {},
   "outputs": [],
   "source": [
    "t7 = torch.tensor([[1, 2], [0, 3]])  # torch.Size([2, 2])\n",
    "t8 = torch.tensor([[3, 1]])  # torch.Size([1, 2])\n",
    "t9 = torch.tensor([[5], [2]])  # torch.Size([2, 1])\n",
    "t10 = torch.tensor([7])  # torch.Size([1])"
   ]
  },
  {
   "cell_type": "code",
   "execution_count": 74,
   "id": "06072110-876c-48c5-a66f-e079b4a3f620",
   "metadata": {},
   "outputs": [
    {
     "name": "stdout",
     "output_type": "stream",
     "text": [
      "tensor([[4, 3],\n",
      "        [3, 4]])\n",
      "tensor([[6, 7],\n",
      "        [2, 5]])\n",
      "tensor([[8, 6],\n",
      "        [5, 3]])\n",
      "tensor([[ 8,  9],\n",
      "        [ 7, 10]])\n"
     ]
    }
   ],
   "source": [
    "print(t7 + t8)   # >>> tensor([[4, 3], [3, 4]])\n",
    "print(t7 + t9)   # >>> tensor([[6, 7], [2, 5]])\n",
    "print(t8 + t9)   # >>> tensor([[8, 6], [5, 3]])\n",
    "print(t7 + t10)  # >>> tensor([[ 8, 9], [ 7, 10]])"
   ]
  },
  {
   "cell_type": "code",
   "execution_count": 75,
   "id": "e6ccf3cf-758d-4877-b159-4ce3351fb9a3",
   "metadata": {},
   "outputs": [
    {
     "name": "stdout",
     "output_type": "stream",
     "text": [
      "################################################## 5\n"
     ]
    }
   ],
   "source": [
    "print(\"#\" * 50, 5)"
   ]
  },
  {
   "cell_type": "code",
   "execution_count": 76,
   "id": "5371c921-69f5-4745-a828-510879176af6",
   "metadata": {},
   "outputs": [
    {
     "name": "stdout",
     "output_type": "stream",
     "text": [
      "torch.Size([4, 3, 2])\n"
     ]
    }
   ],
   "source": [
    "t11 = torch.ones(4, 3, 2)\n",
    "t12 = t11 * torch.rand(3, 2)  # 3rd & 2nd dims identical to t11, dim 0 absent\n",
    "print(t12.shape)"
   ]
  },
  {
   "cell_type": "code",
   "execution_count": 77,
   "id": "af9335eb-0d0e-4647-b1fa-95d01bf0b4a8",
   "metadata": {},
   "outputs": [
    {
     "name": "stdout",
     "output_type": "stream",
     "text": [
      "torch.Size([4, 3, 2])\n"
     ]
    }
   ],
   "source": [
    "t13 = torch.ones(4, 3, 2) # 1개가 2개에 꽂힘\n",
    "t14 = t13 * torch.rand(3, 1)  # 3rd dim = 1, 2nd dim is identical to t13\n",
    "print(t14.shape)"
   ]
  },
  {
   "cell_type": "code",
   "execution_count": 78,
   "id": "8b7710a9-d627-4049-a5f7-b5e21aa6738c",
   "metadata": {},
   "outputs": [
    {
     "name": "stdout",
     "output_type": "stream",
     "text": [
      "torch.Size([4, 3, 2])\n"
     ]
    }
   ],
   "source": [
    "t15 = torch.ones(4, 3, 2)\n",
    "t16 = t15 * torch.rand(1, 2)  # 3rd dim is identical to t15, 2nd dim is 1\n",
    "print(t16.shape)"
   ]
  },
  {
   "cell_type": "code",
   "execution_count": 79,
   "id": "9bfb385b-5a1e-47a5-82a5-c5cecdc5c75e",
   "metadata": {},
   "outputs": [
    {
     "name": "stdout",
     "output_type": "stream",
     "text": [
      "torch.Size([5, 3, 4, 1])\n"
     ]
    }
   ],
   "source": [
    "t17 = torch.ones(5, 3, 4, 1)\n",
    "t18 = torch.rand(3, 1, 1)  # 2nd dim is identical to t17, 3rd and 4th dims are 1\n",
    "print((t17 + t18).size())"
   ]
  },
  {
   "cell_type": "code",
   "execution_count": 80,
   "id": "5cd57b50-1cfa-421c-aaa6-6050ef613159",
   "metadata": {},
   "outputs": [
    {
     "name": "stdout",
     "output_type": "stream",
     "text": [
      "################################################## 6\n"
     ]
    }
   ],
   "source": [
    "print(\"#\" * 50, 6)"
   ]
  },
  {
   "cell_type": "code",
   "execution_count": 81,
   "id": "e3c762e0-d696-498a-b3b2-8c14eaa3e83b",
   "metadata": {},
   "outputs": [
    {
     "name": "stdout",
     "output_type": "stream",
     "text": [
      "torch.Size([5, 3, 4, 1])\n"
     ]
    }
   ],
   "source": [
    "t19 = torch.empty(5, 1, 4, 1)\n",
    "t20 = torch.empty(3, 1, 1)\n",
    "print((t19 + t20).size())  # torch.Size([5, 3, 4, 1])"
   ]
  },
  {
   "cell_type": "code",
   "execution_count": 82,
   "id": "0c264407-5a52-480c-ad59-818ab40fbf6e",
   "metadata": {},
   "outputs": [
    {
     "name": "stdout",
     "output_type": "stream",
     "text": [
      "torch.Size([3, 1, 7])\n"
     ]
    }
   ],
   "source": [
    "t21 = torch.empty(1)\n",
    "t22 = torch.empty(3, 1, 7)\n",
    "print((t21 + t22).size())  # torch.Size([3, 1, 7])"
   ]
  },
  {
   "cell_type": "markdown",
   "id": "bb929d83-bcee-4155-82ff-b0cab9d3d948",
   "metadata": {},
   "source": [
    "# j_tensor_indexing_slicing"
   ]
  },
  {
   "cell_type": "code",
   "execution_count": 2,
   "id": "b8de2ac6-7ce1-4d1d-a7f8-cb183656469d",
   "metadata": {},
   "outputs": [],
   "source": [
    "import torch"
   ]
  },
  {
   "cell_type": "code",
   "execution_count": 18,
   "id": "7fbe9c0a-f773-44a3-a801-353b7375f847",
   "metadata": {},
   "outputs": [
    {
     "name": "stdout",
     "output_type": "stream",
     "text": [
      "tensor([5, 6, 7, 8, 9])\n"
     ]
    }
   ],
   "source": [
    "x = torch.tensor(\n",
    "  [[0, 1, 2, 3, 4],\n",
    "   [5, 6, 7, 8, 9],\n",
    "   [10, 11, 12, 13, 14]]\n",
    ")\n",
    "print(x[1])  # >>> tensor([5, 6, 7, 8, 9])"
   ]
  },
  {
   "cell_type": "code",
   "execution_count": 5,
   "id": "137cb997-67da-4c8e-abb6-a29967e35d22",
   "metadata": {},
   "outputs": [
    {
     "name": "stdout",
     "output_type": "stream",
     "text": [
      "tensor([ 1,  6, 11])\n",
      "tensor(7)\n",
      "tensor([ 4,  9, 14])\n"
     ]
    }
   ],
   "source": [
    "# x의 모든 행을 가져오고 그중에서 1번째 열만 가져옴\n",
    "# shape는 물론 (3,)임\n",
    "print(x[:, 1])  # >>> tensor([1, 6, 11])\n",
    "print(x[1, 2])  # >>> tensor(7)\n",
    "print(x[:, -1])  # >>> tensor([4, 9, 14)"
   ]
  },
  {
   "cell_type": "code",
   "execution_count": 6,
   "id": "df08d5e3-404c-445c-81a7-04b09d760a0f",
   "metadata": {},
   "outputs": [
    {
     "name": "stdout",
     "output_type": "stream",
     "text": [
      "################################################## 1\n"
     ]
    }
   ],
   "source": [
    "print(\"#\" * 50, 1)"
   ]
  },
  {
   "cell_type": "code",
   "execution_count": 7,
   "id": "62420bc2-7097-42fa-87f0-4a7042dde368",
   "metadata": {},
   "outputs": [
    {
     "name": "stdout",
     "output_type": "stream",
     "text": [
      "tensor([[ 5,  6,  7,  8,  9],\n",
      "        [10, 11, 12, 13, 14]])\n",
      "tensor([[ 8,  9],\n",
      "        [13, 14]])\n"
     ]
    }
   ],
   "source": [
    "print(x[1:])  # >>> tensor([[ 5,  6,  7,  8,  9], [10, 11, 12, 13, 14]])\n",
    "print(x[1:, 3:])  # >>> tensor([[ 8,  9], [13, 14]])"
   ]
  },
  {
   "cell_type": "code",
   "execution_count": 8,
   "id": "91498815-dc8f-415b-8e35-7236857334ca",
   "metadata": {},
   "outputs": [
    {
     "name": "stdout",
     "output_type": "stream",
     "text": [
      "################################################## 2\n"
     ]
    }
   ],
   "source": [
    "print(\"#\" * 50, 2)"
   ]
  },
  {
   "cell_type": "code",
   "execution_count": 9,
   "id": "a5fecae2-2122-4d66-86a8-764c2c949fb9",
   "metadata": {},
   "outputs": [
    {
     "name": "stdout",
     "output_type": "stream",
     "text": [
      "tensor([[0., 0., 0., 0., 0., 0.],\n",
      "        [0., 0., 1., 0., 0., 0.],\n",
      "        [0., 0., 1., 0., 0., 0.],\n",
      "        [0., 0., 1., 0., 0., 0.],\n",
      "        [0., 0., 0., 0., 0., 0.],\n",
      "        [0., 0., 0., 0., 0., 0.]])\n"
     ]
    }
   ],
   "source": [
    "y = torch.zeros((6, 6))\n",
    "y[1:4, 2] = 1\n",
    "print(y)"
   ]
  },
  {
   "cell_type": "code",
   "execution_count": 10,
   "id": "4848c7ba-5aea-4196-ab51-f43283a4bbb9",
   "metadata": {},
   "outputs": [
    {
     "name": "stdout",
     "output_type": "stream",
     "text": [
      "tensor([[0., 1., 0.],\n",
      "        [0., 1., 0.],\n",
      "        [0., 1., 0.]])\n"
     ]
    }
   ],
   "source": [
    "print(y[1:4, 1:4])"
   ]
  },
  {
   "cell_type": "code",
   "execution_count": 11,
   "id": "4bb72caa-c87c-4f6c-a89f-7d62a8d09d73",
   "metadata": {},
   "outputs": [
    {
     "name": "stdout",
     "output_type": "stream",
     "text": [
      "################################################## 3\n"
     ]
    }
   ],
   "source": [
    "print(\"#\" * 50, 3)"
   ]
  },
  {
   "cell_type": "code",
   "execution_count": 17,
   "id": "55860ac8-27b1-4be3-8df2-702bcb3cbb83",
   "metadata": {},
   "outputs": [
    {
     "name": "stdout",
     "output_type": "stream",
     "text": [
      "tensor([[1, 2, 3, 4],\n",
      "        [2, 3, 4, 5]])\n",
      "tensor([[3, 4],\n",
      "        [6, 7]])\n",
      "tensor([[2, 3, 4],\n",
      "        [3, 4, 5],\n",
      "        [6, 7, 8]])\n"
     ]
    }
   ],
   "source": [
    "z = torch.tensor(\n",
    "  [[1, 2, 3, 4],\n",
    "   [2, 3, 4, 5],\n",
    "   [5, 6, 7, 8]]\n",
    ")\n",
    "print(z[:2])\n",
    "print(z[1:, 1:3])\n",
    "print(z[:, 1:])"
   ]
  },
  {
   "cell_type": "code",
   "execution_count": 16,
   "id": "8e6c996f-422f-4465-a75d-24eed7a319d0",
   "metadata": {},
   "outputs": [
    {
     "name": "stdout",
     "output_type": "stream",
     "text": [
      "tensor([[1, 2, 3, 4],\n",
      "        [2, 0, 0, 5],\n",
      "        [5, 0, 0, 8]])\n"
     ]
    }
   ],
   "source": [
    "z[1:, 1:3] = 0\n",
    "print(z)"
   ]
  },
  {
   "cell_type": "markdown",
   "id": "1dd6f2e8-e888-423a-ab41-46689b525027",
   "metadata": {},
   "source": [
    "# k_tensor_reshaping"
   ]
  },
  {
   "cell_type": "code",
   "execution_count": 19,
   "id": "b80c1b5d-d7e1-417e-9bb5-27ed657c7641",
   "metadata": {},
   "outputs": [],
   "source": [
    "import torch"
   ]
  },
  {
   "cell_type": "code",
   "execution_count": 22,
   "id": "bd4ef20f-4140-4ea9-a683-4bbb5483abe0",
   "metadata": {},
   "outputs": [],
   "source": [
    "# 🔨 torch.view\n",
    "# Returns a new tensor with the same data as the self tensor but of a different shape.\n",
    "# Tensor의 shape를 바꿔서 반환\n",
    "t1 = torch.tensor([[1, 2, 3], [4, 5, 6]])\n",
    "t2 = t1.view(3, 2)  # Shape becomes (3, 2)"
   ]
  },
  {
   "cell_type": "code",
   "execution_count": 23,
   "id": "b768c44f-93ad-4fa2-96b8-5fdd483b8f78",
   "metadata": {},
   "outputs": [],
   "source": [
    "# 🔨 torch.reshape\n",
    "# torch.view와 기능은 같지만 tensor의 copy를 반환한다.\n",
    "# 즉 view는 값을 공유하고 reshape는 복사된 새로운 값을 반환한다.\n",
    "t3 = t1.reshape(1, 6)  # Shape becomes (1, 6)"
   ]
  },
  {
   "cell_type": "code",
   "execution_count": 24,
   "id": "d385c559-cb59-4588-badb-283c972df599",
   "metadata": {},
   "outputs": [
    {
     "name": "stdout",
     "output_type": "stream",
     "text": [
      "tensor([[1, 2],\n",
      "        [3, 4],\n",
      "        [5, 6]])\n",
      "tensor([[1, 2, 3, 4, 5, 6]])\n"
     ]
    }
   ],
   "source": [
    "print(t2)\n",
    "print(t3)"
   ]
  },
  {
   "cell_type": "code",
   "execution_count": 25,
   "id": "9195d1b4-bc6d-4d36-9197-971bdc3d1e9c",
   "metadata": {},
   "outputs": [],
   "source": [
    "# 똑같은 메모리에서 사용하기 때문에 좋은 코드이다. 나중에 잘 활용할 것!\n",
    "t4 = torch.arange(8).view(2, 4)  # Shape becomes (2, 4)\n",
    "t5 = torch.arange(6).view(2, 3)  # Shape becomes (2, 3)"
   ]
  },
  {
   "cell_type": "code",
   "execution_count": 26,
   "id": "2a884e55-6e22-4756-989b-6ece2a3d2da2",
   "metadata": {},
   "outputs": [
    {
     "name": "stdout",
     "output_type": "stream",
     "text": [
      "tensor([[0, 1, 2, 3],\n",
      "        [4, 5, 6, 7]])\n",
      "tensor([[0, 1, 2],\n",
      "        [3, 4, 5]])\n"
     ]
    }
   ],
   "source": [
    "print(t4)\n",
    "print(t5)"
   ]
  },
  {
   "cell_type": "code",
   "execution_count": 27,
   "id": "69adbf29-a40b-4c74-9397-6b41f28b25e5",
   "metadata": {},
   "outputs": [
    {
     "name": "stdout",
     "output_type": "stream",
     "text": [
      "################################################## 1\n"
     ]
    }
   ],
   "source": [
    "print(\"#\" * 50, 1)"
   ]
  },
  {
   "cell_type": "code",
   "execution_count": 30,
   "id": "925646cf-28cd-4148-a4ce-fc66cd0426e9",
   "metadata": {},
   "outputs": [],
   "source": [
    "# Original tensor with shape (1, 3, 1)\n",
    "t6 = torch.tensor([[[1], [2], [3]]])"
   ]
  },
  {
   "cell_type": "code",
   "execution_count": 32,
   "id": "b9e944f2-adf3-452a-ba4a-eece7c6067c2",
   "metadata": {},
   "outputs": [],
   "source": [
    "# 🔨 torch.squeeze\n",
    "# Returns a tensor with all specified dimensions of input of size 1 removed.\n",
    "# 말 그대로 tensor를 쥐어짜서 차원이 1인 부분을 제거함\n",
    "# Remove all dimensions of size 1\n",
    "t7 = t6.squeeze()  # Shape becomes (3,)"
   ]
  },
  {
   "cell_type": "code",
   "execution_count": 33,
   "id": "a549fae4-aee6-4513-90f1-0b77c858c3e3",
   "metadata": {},
   "outputs": [],
   "source": [
    "# Remove dimension at position 0\n",
    "t8 = t6.squeeze(0)  # Shape becomes (3, 1)"
   ]
  },
  {
   "cell_type": "code",
   "execution_count": 34,
   "id": "5f6f3f24-8937-47d2-a27b-8f3abda7adbe",
   "metadata": {},
   "outputs": [
    {
     "name": "stdout",
     "output_type": "stream",
     "text": [
      "tensor([1, 2, 3])\n",
      "tensor([[1],\n",
      "        [2],\n",
      "        [3]])\n"
     ]
    }
   ],
   "source": [
    "print(t7)\n",
    "print(t8)"
   ]
  },
  {
   "cell_type": "code",
   "execution_count": 35,
   "id": "b4025a6f-a8ce-4ade-98f3-5201c35ed46c",
   "metadata": {},
   "outputs": [
    {
     "name": "stdout",
     "output_type": "stream",
     "text": [
      "################################################## 2\n"
     ]
    }
   ],
   "source": [
    "print(\"#\" * 50, 2)\n"
   ]
  },
  {
   "cell_type": "code",
   "execution_count": 36,
   "id": "3907c29b-9eac-4ac8-b67f-cce46aee8d4c",
   "metadata": {},
   "outputs": [],
   "source": [
    "# Original tensor with shape (3,)\n",
    "t9 = torch.tensor([1, 2, 3])"
   ]
  },
  {
   "cell_type": "code",
   "execution_count": 37,
   "id": "3928e6ff-4933-4388-a532-204634e91334",
   "metadata": {},
   "outputs": [
    {
     "name": "stdout",
     "output_type": "stream",
     "text": [
      "tensor([[1],\n",
      "        [2],\n",
      "        [3]])\n"
     ]
    }
   ],
   "source": [
    "# 🔨 torch.unsqueeze\n",
    "# Adds a new dimension to the tensor at the specified position\n",
    "# 지정한 위치에 차원을 확장한다.\n",
    "# Add a new dimension at position 1\n",
    "t10 = t9.unsqueeze(1)  # Shape becomes (3, 1)\n",
    "print(t10)"
   ]
  },
  {
   "cell_type": "code",
   "execution_count": 38,
   "id": "1503651c-b247-4231-81bd-547bb60771fc",
   "metadata": {},
   "outputs": [
    {
     "name": "stdout",
     "output_type": "stream",
     "text": [
      "tensor([[[1, 2, 3]],\n",
      "\n",
      "        [[4, 5, 6]]]) torch.Size([2, 1, 3])\n"
     ]
    }
   ],
   "source": [
    "t11 = torch.tensor(\n",
    "  [[1, 2, 3],\n",
    "   [4, 5, 6]]\n",
    ")\n",
    "t12 = t11.unsqueeze(1)  # Shape becomes (2, 1, 3)\n",
    "print(t12, t12.shape)"
   ]
  },
  {
   "cell_type": "code",
   "execution_count": 39,
   "id": "d6008706-8234-4be2-bb40-44941efc298d",
   "metadata": {},
   "outputs": [
    {
     "name": "stdout",
     "output_type": "stream",
     "text": [
      "################################################## 3\n"
     ]
    }
   ],
   "source": [
    "print(\"#\" * 50, 3)"
   ]
  },
  {
   "cell_type": "code",
   "execution_count": 40,
   "id": "42b9a3e4-d2e0-48f0-91a7-caabfeeb9f2f",
   "metadata": {},
   "outputs": [],
   "source": [
    "# Original tensor with shape (2, 3)\n",
    "t13 = torch.tensor([[1, 2, 3], [4, 5, 6]])"
   ]
  },
  {
   "cell_type": "code",
   "execution_count": 41,
   "id": "09b2402f-a662-441b-8d6e-8333007f49c7",
   "metadata": {},
   "outputs": [
    {
     "name": "stdout",
     "output_type": "stream",
     "text": [
      "tensor([1, 2, 3, 4, 5, 6])\n"
     ]
    }
   ],
   "source": [
    "# 🔨 torch.flatten\n",
    "# Flattens input by reshaping it into a one-dimensional tensor\n",
    "# 1차원 tensor로 평평하게 만들어줌\n",
    "# Flatten the tensor\n",
    "t14 = t13.flatten()  # Shape becomes (6,)\n",
    "\n",
    "print(t14)"
   ]
  },
  {
   "cell_type": "code",
   "execution_count": 42,
   "id": "f9a6687f-3421-4700-9f63-e34129fda013",
   "metadata": {},
   "outputs": [
    {
     "name": "stdout",
     "output_type": "stream",
     "text": [
      "tensor([1, 2, 3, 4, 5, 6, 7, 8])\n",
      "tensor([[1, 2, 3, 4],\n",
      "        [5, 6, 7, 8]])\n"
     ]
    }
   ],
   "source": [
    "# Original tensor with shape (2, 2, 2)\n",
    "t15 = torch.tensor([[[1, 2],\n",
    "                     [3, 4]],\n",
    "                    [[5, 6],\n",
    "                     [7, 8]]])\n",
    "t16 = torch.flatten(t15)\n",
    "\n",
    "t17 = torch.flatten(t15, start_dim=1)\n",
    "\n",
    "print(t16)\n",
    "print(t17)"
   ]
  },
  {
   "cell_type": "code",
   "execution_count": 43,
   "id": "881bc91c-d700-4e8c-a740-2a2b91abfa7c",
   "metadata": {},
   "outputs": [
    {
     "name": "stdout",
     "output_type": "stream",
     "text": [
      "################################################## 4\n"
     ]
    }
   ],
   "source": [
    "print(\"#\" * 50, 4)"
   ]
  },
  {
   "cell_type": "code",
   "execution_count": 44,
   "id": "50d4f3b6-b59a-47c9-ad2c-ad704d8ef0f9",
   "metadata": {},
   "outputs": [
    {
     "name": "stdout",
     "output_type": "stream",
     "text": [
      "torch.Size([2, 3, 5])\n",
      "torch.Size([5, 2, 3])\n"
     ]
    }
   ],
   "source": [
    "# 🔨 torch.permute\n",
    "# permute는 순서화시키다라는 의미를 가짐\n",
    "# Returns a view of the original tensor input with its dimensions permuted\n",
    "# 인자로 주어지는 차원 순서로 tensor의 shape를 바꿈\n",
    "# view를 리턴하기 때문에 sharing\n",
    "t18 = torch.randn(2, 3, 5)\n",
    "print(t18.shape)  # >>> torch.Size([2, 3, 5])\n",
    "print(torch.permute(t18, (2, 0, 1)).size())  # >>> torch.Size([5, 2, 3])"
   ]
  },
  {
   "cell_type": "code",
   "execution_count": 45,
   "id": "1416c485-2797-4a94-9edc-7f7a4f9f368d",
   "metadata": {},
   "outputs": [],
   "source": [
    "# Original tensor with shape (2, 3)\n",
    "t19 = torch.tensor([[1, 2, 3], [4, 5, 6]])"
   ]
  },
  {
   "cell_type": "code",
   "execution_count": 46,
   "id": "760631c7-43e6-4432-bdb8-0a7a08fdd994",
   "metadata": {},
   "outputs": [
    {
     "name": "stdout",
     "output_type": "stream",
     "text": [
      "tensor([[1, 2, 3],\n",
      "        [4, 5, 6]])\n",
      "tensor([[1, 4],\n",
      "        [2, 5],\n",
      "        [3, 6]])\n"
     ]
    }
   ],
   "source": [
    "# Permute the dimensions\n",
    "t20 = torch.permute(t19, dims=(0, 1))  # Shape becomes (2, 3) still\n",
    "t21 = torch.permute(t19, dims=(1, 0))  # Shape becomes (3, 2)\n",
    "print(t20)\n",
    "print(t21)"
   ]
  },
  {
   "cell_type": "code",
   "execution_count": 47,
   "id": "51763598-f7a0-4ff3-b996-fe7018cde1b5",
   "metadata": {},
   "outputs": [
    {
     "name": "stdout",
     "output_type": "stream",
     "text": [
      "tensor([[1, 4],\n",
      "        [2, 5],\n",
      "        [3, 6]])\n"
     ]
    }
   ],
   "source": [
    "# 🔨 torch.transpose\n",
    "# The given dimensions dim0 and dim1 are swapped\n",
    "# 특정 차원 2개를 바꿈\n",
    "# Transpose the tensor\n",
    "t22 = torch.transpose(t19, 0, 1)  # Shape becomes (3, 2)\n",
    "\n",
    "print(t22)"
   ]
  },
  {
   "cell_type": "code",
   "execution_count": 48,
   "id": "0749ec41-c367-4eb7-81ac-0bc172fd3ac2",
   "metadata": {},
   "outputs": [
    {
     "name": "stdout",
     "output_type": "stream",
     "text": [
      "tensor([[1, 4],\n",
      "        [2, 5],\n",
      "        [3, 6]])\n"
     ]
    }
   ],
   "source": [
    "# 🔨 torch.t\n",
    "# It expects input to be 2D tensor and transposes dimensions 0 and 1\n",
    "# input으로 2D tensor가 들어가며, 해당 tensor를 transpose함.\n",
    "# 전치행렬과 같음\n",
    "t23 = torch.t(t19)  # Shape becomes (3, 2)\n",
    "\n",
    "print(t23)"
   ]
  },
  {
   "cell_type": "markdown",
   "id": "0b494b17-0c74-4946-a9b4-2afd0a3056af",
   "metadata": {},
   "source": [
    "# i_tensor_concat"
   ]
  },
  {
   "cell_type": "code",
   "execution_count": 49,
   "id": "61060d7d-2d33-4e9d-aadd-3de727aba31a",
   "metadata": {},
   "outputs": [],
   "source": [
    "import torch"
   ]
  },
  {
   "cell_type": "code",
   "execution_count": 50,
   "id": "56e50768-a29f-4059-b12a-6ce76386db3f",
   "metadata": {},
   "outputs": [],
   "source": [
    "t1 = torch.zeros([2, 1, 3])\n",
    "t2 = torch.zeros([2, 3, 3])\n",
    "t3 = torch.zeros([2, 2, 3])"
   ]
  },
  {
   "cell_type": "code",
   "execution_count": 51,
   "id": "5caaea8d-63a9-428c-8a89-e8a93d94f3bd",
   "metadata": {},
   "outputs": [
    {
     "name": "stdout",
     "output_type": "stream",
     "text": [
      "torch.Size([2, 6, 3])\n"
     ]
    }
   ],
   "source": [
    "# 🔨 torch.cat, torch.concat\n",
    "# It takes a sequence of tensors and concatenates them along the specified dimension, resulting in a new tensor.\n",
    "# 지정된 차원을 따라 tensor끼리 연결하여 새로운 tensor 생성\n",
    "t4 = torch.cat([t1, t2, t3], dim=1)\n",
    "print(t4.shape)"
   ]
  },
  {
   "cell_type": "code",
   "execution_count": 52,
   "id": "29d23026-0cda-417d-9add-62b91f0e7f73",
   "metadata": {},
   "outputs": [
    {
     "name": "stdout",
     "output_type": "stream",
     "text": [
      "################################################## 1\n"
     ]
    }
   ],
   "source": [
    "print(\"#\" * 50, 1)"
   ]
  },
  {
   "cell_type": "code",
   "execution_count": 53,
   "id": "d677da3f-3b0a-4cd9-9a70-fdd962793c15",
   "metadata": {},
   "outputs": [],
   "source": [
    "t5 = torch.arange(0, 3)  # tensor([0, 1, 2])\n",
    "t6 = torch.arange(3, 8)  # tensor([3, 4, 5, 6, 7])"
   ]
  },
  {
   "cell_type": "code",
   "execution_count": 54,
   "id": "7639c518-bf4f-4903-af3a-3a4ee4603bcb",
   "metadata": {},
   "outputs": [
    {
     "name": "stdout",
     "output_type": "stream",
     "text": [
      "torch.Size([8])\n",
      "tensor([0, 1, 2, 3, 4, 5, 6, 7])\n"
     ]
    }
   ],
   "source": [
    "t7 = torch.cat((t5, t6), dim=0)\n",
    "print(t7.shape)  # >>> torch.Size([8])\n",
    "print(t7)  # >>> tensor([0, 1, 2, 3, 4, 5, 6, 7])"
   ]
  },
  {
   "cell_type": "code",
   "execution_count": 55,
   "id": "d95ac9b6-f60b-4a91-ac22-efae4c27f6ad",
   "metadata": {},
   "outputs": [
    {
     "name": "stdout",
     "output_type": "stream",
     "text": [
      "################################################## 2\n"
     ]
    }
   ],
   "source": [
    "print(\"#\" * 50, 2)"
   ]
  },
  {
   "cell_type": "code",
   "execution_count": 56,
   "id": "d2e76949-4b1b-4bd7-9d5c-b73efdddd82e",
   "metadata": {},
   "outputs": [],
   "source": [
    "t8 = torch.arange(0, 6).reshape(2, 3)  # torch.Size([2, 3])\n",
    "t9 = torch.arange(6, 12).reshape(2, 3)  # torch.Size([2, 3])"
   ]
  },
  {
   "cell_type": "code",
   "execution_count": 57,
   "id": "4f27057e-ae1b-4ab4-ad9a-08e461af4080",
   "metadata": {},
   "outputs": [
    {
     "name": "stdout",
     "output_type": "stream",
     "text": [
      "torch.Size([4, 3])\n",
      "tensor([[ 0,  1,  2],\n",
      "        [ 3,  4,  5],\n",
      "        [ 6,  7,  8],\n",
      "        [ 9, 10, 11]])\n"
     ]
    }
   ],
   "source": [
    "# 2차원 텐서간 병합\n",
    "t10 = torch.cat((t8, t9), dim=0)\n",
    "print(t10.size())  # >>> torch.Size([4, 3])\n",
    "print(t10)"
   ]
  },
  {
   "cell_type": "code",
   "execution_count": 58,
   "id": "9f3ce4a3-c531-410d-b304-2ceed087ebcd",
   "metadata": {},
   "outputs": [
    {
     "name": "stdout",
     "output_type": "stream",
     "text": [
      "torch.Size([2, 6])\n",
      "tensor([[ 0,  1,  2,  6,  7,  8],\n",
      "        [ 3,  4,  5,  9, 10, 11]])\n"
     ]
    }
   ],
   "source": [
    "t11 = torch.cat((t8, t9), dim=1)\n",
    "print(t11.size())  # >>>torch.Size([2, 6])\n",
    "print(t11)"
   ]
  },
  {
   "cell_type": "code",
   "execution_count": 59,
   "id": "d5f6a56d-fd0e-4619-b006-37482f521210",
   "metadata": {},
   "outputs": [
    {
     "name": "stdout",
     "output_type": "stream",
     "text": [
      "################################################## 3\n"
     ]
    }
   ],
   "source": [
    "print(\"#\" * 50, 3)"
   ]
  },
  {
   "cell_type": "code",
   "execution_count": 60,
   "id": "3d712952-1eea-49d8-a95a-092b045d0d4c",
   "metadata": {},
   "outputs": [],
   "source": [
    "t12 = torch.arange(0, 6).reshape(2, 3)  # torch.Size([2, 3])\n",
    "t13 = torch.arange(6, 12).reshape(2, 3)  # torch.Size([2, 3])\n",
    "t14 = torch.arange(12, 18).reshape(2, 3)  # torch.Size([2, 3])"
   ]
  },
  {
   "cell_type": "code",
   "execution_count": 61,
   "id": "8e495515-113a-416a-9f7b-f0c4d04b84ae",
   "metadata": {},
   "outputs": [
    {
     "name": "stdout",
     "output_type": "stream",
     "text": [
      "torch.Size([6, 3])\n",
      "tensor([[ 0,  1,  2],\n",
      "        [ 3,  4,  5],\n",
      "        [ 6,  7,  8],\n",
      "        [ 9, 10, 11],\n",
      "        [12, 13, 14],\n",
      "        [15, 16, 17]])\n"
     ]
    }
   ],
   "source": [
    "t15 = torch.cat((t12, t13, t14), dim=0)\n",
    "print(t15.size())  # >>> torch.Size([6, 3])\n",
    "print(t15)"
   ]
  },
  {
   "cell_type": "code",
   "execution_count": 62,
   "id": "d4e14b48-aa95-4831-8823-bef36d806b40",
   "metadata": {},
   "outputs": [
    {
     "name": "stdout",
     "output_type": "stream",
     "text": [
      "torch.Size([2, 9])\n",
      "tensor([[ 0,  1,  2,  6,  7,  8, 12, 13, 14],\n",
      "        [ 3,  4,  5,  9, 10, 11, 15, 16, 17]])\n"
     ]
    }
   ],
   "source": [
    "t16 = torch.cat((t12, t13, t14), dim=1)\n",
    "print(t16.size())  # >>> torch.Size([2, 9])\n",
    "print(t16)"
   ]
  },
  {
   "cell_type": "code",
   "execution_count": 63,
   "id": "4c5319a0-ab0c-405c-8e1d-62b423ffde95",
   "metadata": {},
   "outputs": [
    {
     "name": "stdout",
     "output_type": "stream",
     "text": [
      "################################################## 4\n"
     ]
    }
   ],
   "source": [
    "print(\"#\" * 50, 4)"
   ]
  },
  {
   "cell_type": "code",
   "execution_count": 64,
   "id": "3377ca0f-4c1e-4b19-8af8-beb89e768bec",
   "metadata": {},
   "outputs": [],
   "source": [
    "t17 = torch.arange(0, 6).reshape(1, 2, 3)  # torch.Size([1, 2, 3])\n",
    "t18 = torch.arange(6, 12).reshape(1, 2, 3)  # torch.Size([1, 2, 3])"
   ]
  },
  {
   "cell_type": "code",
   "execution_count": 65,
   "id": "57494f64-6067-4a8b-be02-d64b452f329a",
   "metadata": {},
   "outputs": [
    {
     "name": "stdout",
     "output_type": "stream",
     "text": [
      "torch.Size([2, 2, 3])\n",
      "tensor([[[ 0,  1,  2],\n",
      "         [ 3,  4,  5]],\n",
      "\n",
      "        [[ 6,  7,  8],\n",
      "         [ 9, 10, 11]]])\n"
     ]
    }
   ],
   "source": [
    "t19 = torch.cat((t17, t18), dim=0)\n",
    "print(t19.size())  # >>> torch.Size([2, 2, 3])\n",
    "print(t19)"
   ]
  },
  {
   "cell_type": "code",
   "execution_count": 66,
   "id": "370b556f-75f3-4098-a985-bdae93adaa8a",
   "metadata": {},
   "outputs": [
    {
     "name": "stdout",
     "output_type": "stream",
     "text": [
      "torch.Size([1, 4, 3])\n",
      "tensor([[[ 0,  1,  2],\n",
      "         [ 3,  4,  5],\n",
      "         [ 6,  7,  8],\n",
      "         [ 9, 10, 11]]])\n"
     ]
    }
   ],
   "source": [
    "t20 = torch.cat((t17, t18), dim=1)\n",
    "print(t20.size())  # >>> torch.Size([1, 4, 3])\n",
    "print(t20)"
   ]
  },
  {
   "cell_type": "code",
   "execution_count": 67,
   "id": "f689682d-1572-455c-81a2-4abc36099476",
   "metadata": {},
   "outputs": [
    {
     "name": "stdout",
     "output_type": "stream",
     "text": [
      "torch.Size([1, 2, 6])\n",
      "tensor([[[ 0,  1,  2,  6,  7,  8],\n",
      "         [ 3,  4,  5,  9, 10, 11]]])\n"
     ]
    }
   ],
   "source": [
    "t21 = torch.cat((t17, t18), dim=2)\n",
    "print(t21.size())  # >>> torch.Size([1, 2, 6])\n",
    "print(t21)"
   ]
  },
  {
   "cell_type": "markdown",
   "id": "2436b4a8-8556-4c6c-8795-c1cbb68cac56",
   "metadata": {},
   "source": [
    "# m_tensor_stacking"
   ]
  },
  {
   "cell_type": "code",
   "execution_count": 68,
   "id": "39e88b22-20b6-4802-8f07-a76448a6a4da",
   "metadata": {},
   "outputs": [],
   "source": [
    "import torch"
   ]
  },
  {
   "cell_type": "code",
   "execution_count": 71,
   "id": "ce0a3c31-382e-4f01-b07b-628f5991986b",
   "metadata": {},
   "outputs": [],
   "source": [
    "# 🔨 torch.stack\n",
    "# It takes a sequence of tensors and stacks them along a new dimension,\n",
    "# creating a new tensor with one additional dimension\n",
    "t1 = torch.tensor([[1, 2, 3], [4, 5, 6]])\n",
    "t2 = torch.tensor([[7, 8, 9], [10, 11, 12]])# 새로운 차원으로 확장하여 tensor sequence를 병합"
   ]
  },
  {
   "cell_type": "code",
   "execution_count": 72,
   "id": "7f04fdc9-ebc0-47c3-9921-45e57505b202",
   "metadata": {},
   "outputs": [],
   "source": [
    "t3 = torch.stack([t1, t2], dim=0)"
   ]
  },
  {
   "cell_type": "code",
   "execution_count": 73,
   "id": "952fb4a9-65f2-4925-8490-2d6b6d76f004",
   "metadata": {},
   "outputs": [],
   "source": [
    "# unsqueeze로 새로운 차원을 만든 후, 두 tensor를 새로운 차원 기준으로 합침 == torch.stack\n",
    "t4 = torch.cat([t1.unsqueeze(dim=0), t2.unsqueeze(dim=0)], dim=0)"
   ]
  },
  {
   "cell_type": "code",
   "execution_count": 74,
   "id": "a3e19f6b-657a-4375-96de-fe6524470ac1",
   "metadata": {},
   "outputs": [
    {
     "name": "stdout",
     "output_type": "stream",
     "text": [
      "torch.Size([2, 2, 3]) True\n"
     ]
    }
   ],
   "source": [
    "print(t3.shape, t3.equal(t4))"
   ]
  },
  {
   "cell_type": "code",
   "execution_count": 75,
   "id": "be281f0d-f08a-4056-bad9-55ebb53c4d1c",
   "metadata": {},
   "outputs": [
    {
     "name": "stdout",
     "output_type": "stream",
     "text": [
      "torch.Size([2, 2, 3]) True\n"
     ]
    }
   ],
   "source": [
    "t5 = torch.stack([t1, t2], dim=1)\n",
    "t6 = torch.cat([t1.unsqueeze(dim=1), t2.unsqueeze(dim=1)], dim=1)\n",
    "print(t5.shape, t5.equal(t6))"
   ]
  },
  {
   "cell_type": "code",
   "execution_count": 76,
   "id": "bcb4073b-861b-4e33-9d5f-7ac38713ed6e",
   "metadata": {},
   "outputs": [
    {
     "name": "stdout",
     "output_type": "stream",
     "text": [
      "torch.Size([2, 3, 2]) True\n"
     ]
    }
   ],
   "source": [
    "t7 = torch.stack([t1, t2], dim=2)\n",
    "t8 = torch.cat([t1.unsqueeze(dim=2), t2.unsqueeze(dim=2)], dim=2)\n",
    "print(t7.shape, t7.equal(t8))"
   ]
  },
  {
   "cell_type": "code",
   "execution_count": 77,
   "id": "04a0d374-4b4f-42de-9a3c-da09f6e7d50f",
   "metadata": {},
   "outputs": [
    {
     "name": "stdout",
     "output_type": "stream",
     "text": [
      "################################################## 1\n"
     ]
    }
   ],
   "source": [
    "print(\"#\" * 50, 1)"
   ]
  },
  {
   "cell_type": "code",
   "execution_count": 78,
   "id": "94d3f1e4-4b12-4ec4-8575-660562b6bd27",
   "metadata": {},
   "outputs": [
    {
     "name": "stdout",
     "output_type": "stream",
     "text": [
      "torch.Size([3]) torch.Size([3])\n"
     ]
    }
   ],
   "source": [
    "t9 = torch.arange(0, 3)  # tensor([0, 1, 2])\n",
    "t10 = torch.arange(3, 6)  # tensor([3, 4, 5])\n",
    "\n",
    "print(t9.size(), t10.size())"
   ]
  },
  {
   "cell_type": "code",
   "execution_count": 79,
   "id": "b3aeb840-5031-49d1-ba78-b482f4a164f9",
   "metadata": {},
   "outputs": [
    {
     "name": "stdout",
     "output_type": "stream",
     "text": [
      "torch.Size([2, 3])\n",
      "tensor([[0, 1, 2],\n",
      "        [3, 4, 5]])\n"
     ]
    }
   ],
   "source": [
    "t11 = torch.stack((t9, t10), dim=0)\n",
    "print(t11.size())  # >>> torch.Size([2,3])\n",
    "print(t11)"
   ]
  },
  {
   "cell_type": "code",
   "execution_count": 80,
   "id": "ee6d0992-4878-4919-922c-3e11e6310418",
   "metadata": {},
   "outputs": [
    {
     "name": "stdout",
     "output_type": "stream",
     "text": [
      "True\n"
     ]
    }
   ],
   "source": [
    "t12 = torch.cat((t9.unsqueeze(0), t10.unsqueeze(0)), dim=0)\n",
    "print(t11.equal(t12))"
   ]
  },
  {
   "cell_type": "code",
   "execution_count": 81,
   "id": "cd6bdb30-63ff-4d74-b911-cbc0c0b8211b",
   "metadata": {},
   "outputs": [
    {
     "name": "stdout",
     "output_type": "stream",
     "text": [
      "torch.Size([3, 2])\n",
      "tensor([[0, 3],\n",
      "        [1, 4],\n",
      "        [2, 5]])\n"
     ]
    }
   ],
   "source": [
    "t13 = torch.stack((t9, t10), dim=1)\n",
    "print(t13.size())  # >>> torch.Size([3,2])\n",
    "print(t13)"
   ]
  },
  {
   "cell_type": "code",
   "execution_count": 82,
   "id": "d125aa70-a7e4-4d40-8437-4d48b7c007a2",
   "metadata": {},
   "outputs": [
    {
     "name": "stdout",
     "output_type": "stream",
     "text": [
      "True\n"
     ]
    }
   ],
   "source": [
    "t14 = torch.cat((t9.unsqueeze(1), t10.unsqueeze(1)), dim=1)\n",
    "print(t13.equal(t14))"
   ]
  },
  {
   "cell_type": "markdown",
   "id": "c0407015-2783-430f-a333-f1ac084c1235",
   "metadata": {},
   "source": [
    "# n_tensor_vstack_hstack"
   ]
  },
  {
   "cell_type": "code",
   "execution_count": 11,
   "id": "d312fb2d-7a9c-4716-861c-375226c0c646",
   "metadata": {},
   "outputs": [],
   "source": [
    "import torch"
   ]
  },
  {
   "cell_type": "code",
   "execution_count": 12,
   "id": "0f0cacdc-c830-4f2c-b708-735bb1be9777",
   "metadata": {},
   "outputs": [
    {
     "name": "stdout",
     "output_type": "stream",
     "text": [
      "tensor([[1, 2, 3],\n",
      "        [4, 5, 6]])\n"
     ]
    }
   ],
   "source": [
    "t1 = torch.tensor([1, 2, 3])\n",
    "t2 = torch.tensor([4, 5, 6])\n",
    "t3 = torch.vstack((t1, t2))\n",
    "print(t3)"
   ]
  },
  {
   "cell_type": "code",
   "execution_count": 13,
   "id": "74d1ad48-30f1-4a01-880e-c0986132015b",
   "metadata": {},
   "outputs": [],
   "source": [
    "t4 = torch.tensor([[1], [2], [3]])\n",
    "t5 = torch.tensor([[4], [5], [6]])\n",
    "t6 = torch.vstack((t4, t5))"
   ]
  },
  {
   "cell_type": "code",
   "execution_count": 14,
   "id": "afe546f2-f8e8-485a-846d-ae8147501d2f",
   "metadata": {},
   "outputs": [
    {
     "name": "stdout",
     "output_type": "stream",
     "text": [
      "torch.Size([2, 2, 3])\n"
     ]
    }
   ],
   "source": [
    "t7 = torch.tensor([\n",
    "  [[1, 2, 3], [4, 5, 6]],\n",
    "  [[7, 8, 9], [10, 11, 12]]\n",
    "])\n",
    "print(t7.shape)"
   ]
  },
  {
   "cell_type": "code",
   "execution_count": 15,
   "id": "87b23d29-d522-46a2-95f9-a64df2d3bb6c",
   "metadata": {},
   "outputs": [
    {
     "name": "stdout",
     "output_type": "stream",
     "text": [
      "torch.Size([2, 2, 3])\n"
     ]
    }
   ],
   "source": [
    "t8 = torch.tensor([\n",
    "  [[13, 14, 15], [16, 17, 18]],\n",
    "  [[19, 20, 21], [22, 23, 24]]\n",
    "])\n",
    "print(t8.shape)"
   ]
  },
  {
   "cell_type": "code",
   "execution_count": 16,
   "id": "e00f9755-235f-47ab-83e8-44c15755b982",
   "metadata": {},
   "outputs": [
    {
     "name": "stdout",
     "output_type": "stream",
     "text": [
      "torch.Size([4, 2, 3])\n"
     ]
    }
   ],
   "source": [
    "t9 = torch.vstack([t7, t8])\n",
    "print(t9.shape)"
   ]
  },
  {
   "cell_type": "code",
   "execution_count": 17,
   "id": "64af04bb-4a48-4971-a42a-98bea37f9b03",
   "metadata": {},
   "outputs": [
    {
     "name": "stdout",
     "output_type": "stream",
     "text": [
      "tensor([[[ 1,  2,  3],\n",
      "         [ 4,  5,  6]],\n",
      "\n",
      "        [[ 7,  8,  9],\n",
      "         [10, 11, 12]],\n",
      "\n",
      "        [[13, 14, 15],\n",
      "         [16, 17, 18]],\n",
      "\n",
      "        [[19, 20, 21],\n",
      "         [22, 23, 24]]])\n"
     ]
    }
   ],
   "source": [
    "print(t9)"
   ]
  },
  {
   "cell_type": "code",
   "execution_count": 90,
   "id": "30642af2-ae9d-41dc-9ca0-106802015648",
   "metadata": {},
   "outputs": [
    {
     "name": "stdout",
     "output_type": "stream",
     "text": [
      "################################################## 1\n"
     ]
    }
   ],
   "source": [
    "print(\"#\" * 50, 1)"
   ]
  },
  {
   "cell_type": "code",
   "execution_count": 18,
   "id": "b7241028-1474-42b4-b75c-638f171e603a",
   "metadata": {},
   "outputs": [
    {
     "name": "stdout",
     "output_type": "stream",
     "text": [
      "tensor([1, 2, 3, 4, 5, 6])\n"
     ]
    }
   ],
   "source": [
    "t10 = torch.tensor([1, 2, 3])\n",
    "t11 = torch.tensor([4, 5, 6])\n",
    "t12 = torch.hstack((t10, t11))\n",
    "print(t12)"
   ]
  },
  {
   "cell_type": "code",
   "execution_count": 19,
   "id": "d55da3cc-857e-473b-9a5d-6c19ed30cea4",
   "metadata": {},
   "outputs": [
    {
     "name": "stdout",
     "output_type": "stream",
     "text": [
      "tensor([[1, 4],\n",
      "        [2, 5],\n",
      "        [3, 6]])\n"
     ]
    }
   ],
   "source": [
    "t13 = torch.tensor([[1], [2], [3]])\n",
    "t14 = torch.tensor([[4], [5], [6]])\n",
    "t15 = torch.hstack((t13, t14))\n",
    "print(t15)"
   ]
  },
  {
   "cell_type": "code",
   "execution_count": 20,
   "id": "51ee2e05-f3dd-47ef-b18a-8af61521ba44",
   "metadata": {},
   "outputs": [
    {
     "name": "stdout",
     "output_type": "stream",
     "text": [
      "torch.Size([2, 2, 3])\n"
     ]
    }
   ],
   "source": [
    "t16 = torch.tensor([\n",
    "  [[1, 2, 3], [4, 5, 6]],\n",
    "  [[7, 8, 9], [10, 11, 12]]\n",
    "])\n",
    "print(t16.shape)"
   ]
  },
  {
   "cell_type": "code",
   "execution_count": 21,
   "id": "90ad40f8-1779-4cde-8ad8-39d239e759bb",
   "metadata": {},
   "outputs": [
    {
     "name": "stdout",
     "output_type": "stream",
     "text": [
      "torch.Size([2, 2, 3])\n"
     ]
    }
   ],
   "source": [
    "t17 = torch.tensor([\n",
    "  [[13, 14, 15], [16, 17, 18]],\n",
    "  [[19, 20, 21], [22, 23, 24]]\n",
    "])\n",
    "print(t17.shape)"
   ]
  },
  {
   "cell_type": "code",
   "execution_count": 22,
   "id": "904762cc-fff5-46b1-9451-ceff07e4f5a1",
   "metadata": {},
   "outputs": [
    {
     "name": "stdout",
     "output_type": "stream",
     "text": [
      "torch.Size([2, 4, 3])\n"
     ]
    }
   ],
   "source": [
    "t18 = torch.hstack([t16, t17])\n",
    "print(t18.shape)"
   ]
  },
  {
   "cell_type": "code",
   "execution_count": 23,
   "id": "2439ee2b-b736-4806-955a-1f7efb2430a8",
   "metadata": {},
   "outputs": [
    {
     "name": "stdout",
     "output_type": "stream",
     "text": [
      "tensor([[[ 1,  2,  3],\n",
      "         [ 4,  5,  6],\n",
      "         [13, 14, 15],\n",
      "         [16, 17, 18]],\n",
      "\n",
      "        [[ 7,  8,  9],\n",
      "         [10, 11, 12],\n",
      "         [19, 20, 21],\n",
      "         [22, 23, 24]]])\n"
     ]
    }
   ],
   "source": [
    "print(t18)"
   ]
  },
  {
   "cell_type": "markdown",
   "id": "2d344592-b64b-4780-ab67-a3c3cc3c796c",
   "metadata": {},
   "source": [
    "# 기술적 사항과 고찰"
   ]
  },
  {
   "cell_type": "markdown",
   "id": "b57b00a6-bec5-4f53-b71b-71a09c140756",
   "metadata": {},
   "source": [
    "이번 과제를 통해 어떤 배움이든 도움이 된다고 느꼈다. 특히 텐서의 여러가지 메서드 중 항등 행렬을 만드는 `torch.eye` 메서드를 보면서\n",
    "선형대수를 공부했던 기억이 났다. 또한 `torch.view`는 값을 공유하고 `torch.reshape`는 tensor의 copy를 반환한다는 점을 통해\n",
    "기본적인 파이썬 개념도 다시금 되짚어보게 됐다. 수업 시간에 deepcopy 관련해서 질문이 있었고 교수님이 이 질문을 칭찬하시면서 잘 생각해봐야 한다고 하셨는데,\n",
    "앞으로도 torch 메서드를 사용하면서 이 메서드가 어떤 타입의 인자를 받아서 어떤 값을 반환하는지 확실하게 익힐 필요가 있을 듯하다.\n",
    "추가로 torch 메서드를 공부하면서 파이토치 공식 문서가 많은 도움이 됐다. 영어로 되어 있지만 이해하는 데에는 큰 무리가 없었고 무엇보다도 정확하고 확실하게 이해할 수 있어서 좋았다."
   ]
  },
  {
   "cell_type": "markdown",
   "id": "d597a3ff-4981-4062-b232-2d86fe0a456a",
   "metadata": {},
   "source": [
    "# 숙제_후기"
   ]
  },
  {
   "cell_type": "markdown",
   "id": "016be618-4a11-4266-b3a2-1053fac80988",
   "metadata": {},
   "source": [
    "딥러닝및실습 과목은 생각했던 것보다 확실히 쉽지 않다. \n",
    "이번 과제는 텐서의 다양한 메서드로 텐서를 가지고 놀아보는 시간이었다.\n",
    "텐서가 메서드가 이렇게 많을 줄 몰랐다. 이것들을 하나하나 외울 순 없겠지만 이렇게 하나씩 경험하고 나중에 필요할 때 파이토치 공식 문서를 보며\n",
    "문제를 해결할 수 있을 거 같다. "
   ]
  },
  {
   "cell_type": "code",
   "execution_count": null,
   "id": "d33cc64c-6b47-4a38-8e07-5e394daa3d77",
   "metadata": {},
   "outputs": [],
   "source": []
  }
 ],
 "metadata": {
  "kernelspec": {
   "display_name": "Python 3 (ipykernel)",
   "language": "python",
   "name": "python3"
  },
  "language_info": {
   "codemirror_mode": {
    "name": "ipython",
    "version": 3
   },
   "file_extension": ".py",
   "mimetype": "text/x-python",
   "name": "python",
   "nbconvert_exporter": "python",
   "pygments_lexer": "ipython3",
   "version": "3.10.12"
  }
 },
 "nbformat": 4,
 "nbformat_minor": 5
}
